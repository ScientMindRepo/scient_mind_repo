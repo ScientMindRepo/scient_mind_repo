{
 "cells": [
  {
   "cell_type": "markdown",
   "id": "31669efe-d681-464e-a853-953b38ee771f",
   "metadata": {
    "tags": []
   },
   "source": [
    "# Machine Learning by Regression. Predicting the Target\n",
    "\n",
    "Getting familiar with the Notation, Syntax and key Terminology of Machine Learning (ML) has been a significant barrier to entry and learning. Much information is sourced from Dive into [Deep Learning by Aston Zhang et al. 2024](https://d2l.ai/index.html) and will serve as the primary source of ML and Neural Networks Programming and Mathematics. "
   ]
  },
  {
   "cell_type": "markdown",
   "id": "fc03ce59-2b5d-40a9-99d8-b95e0734c82e",
   "metadata": {
    "tags": []
   },
   "source": [
    "### The Problem of Regression\n",
    "The problem of Regression in ML is<br>\n",
    "> *Given some set of features about some target, from the set of features can we predict the target, and vice versa. From a target outcome, can we predict the features to it.*"
   ]
  },
  {
   "cell_type": "markdown",
   "id": "9c5f37fb-542e-4fbc-a355-f3525b1a5e83",
   "metadata": {},
   "source": [
    "Lets define all the components needed and unpack the key ideas behind the method of Regression."
   ]
  },
  {
   "cell_type": "markdown",
   "id": "5e0fd1c9-1514-4c88-9692-9eeb2ace904c",
   "metadata": {},
   "source": [
    "1. A well ordered and structured dataset, $X$ <br>\n",
    "<span style=\"color: #B0B0B0; font-size: 11px; padding-top: 0px;display: inline-block;\"> &nbsp;&nbsp;&nbsp;&nbsp; order and structure $\\Rightarrow$ *all data is sorted in correct columns and rows, there is nothing out of place.*</span>\n",
    "$$X^{n x m} =\n",
    "\\begin{pmatrix}\n",
    "\\vec{x}_1 \\\\\n",
    "\\vdots \\\\\n",
    "\\vec{x}_n\n",
    "\\end{pmatrix}= \n",
    "\\begin{pmatrix}\n",
    "\\theta_{1,1} & \\cdots & \\theta_{1,m} \\\\\n",
    "\\vdots  & \\cdots & \\vdots \\\\\n",
    "\\theta_{n,1} & \\cdots & \\theta_{n,m}\n",
    "\\end{pmatrix}\n",
    "$$\n",
    "<span style=\"color: #B0B0B0; font-size: 11px; padding-top: 0px;display: inline-block;\"> &nbsp;&nbsp;&nbsp;&nbsp; $X$ = consisting of $n$ examples, of $m$ independent characteristics (features) related to 𝑦\n",
    "\n",
    "\n",
    "</span>"
   ]
  },
  {
   "cell_type": "code",
   "execution_count": 6,
   "id": "4a1ed427-5c61-4f19-8dd2-f78209e175c8",
   "metadata": {
    "tags": []
   },
   "outputs": [],
   "source": []
  },
  {
   "cell_type": "code",
   "execution_count": null,
   "id": "b07886fb-0dad-48b9-875b-ba1703cb113f",
   "metadata": {},
   "outputs": [],
   "source": []
  }
 ],
 "metadata": {
  "kernelspec": {
   "display_name": "Python 3",
   "language": "python",
   "name": "python3"
  },
  "language_info": {
   "codemirror_mode": {
    "name": "ipython",
    "version": 3
   },
   "file_extension": ".py",
   "mimetype": "text/x-python",
   "name": "python",
   "nbconvert_exporter": "python",
   "pygments_lexer": "ipython3",
   "version": "3.9.9"
  }
 },
 "nbformat": 4,
 "nbformat_minor": 5
}
